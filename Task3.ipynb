{
 "cells": [
  {
   "cell_type": "code",
   "execution_count": 1,
   "metadata": {},
   "outputs": [],
   "source": [
    "import numpy as np\n",
    "import random\n",
    "from enum import IntEnum"
   ]
  },
  {
   "cell_type": "code",
   "execution_count": 2,
   "metadata": {},
   "outputs": [],
   "source": [
    "class Action(IntEnum):\n",
    "    UP = 0\n",
    "    DOWN = 1\n",
    "    RIGHT = 2\n",
    "    LEFT = 3\n"
   ]
  },
  {
   "cell_type": "code",
   "execution_count": 5,
   "metadata": {},
   "outputs": [],
   "source": [
    "class FrozenLake:\n",
    "    def __init__(self, start=(0, 0), goal=(3, 3), seed=42):\n",
    "        self.start = start\n",
    "        self.goal = goal\n",
    "        self.state = start\n",
    "        self.grid_size = 4\n",
    "        self.holes = self.generate_holes(seed)\n",
    "        self.actions = [Action.UP, Action.DOWN, Action.RIGHT, Action.LEFT]\n",
    "    def generate_holes(self, seed):\n",
    "        random.seed(seed)\n",
    "        holes = set()\n",
    "        num_holes = random.randint(1, 3)\n",
    "        while len(holes) < num_holes:\n",
    "            hole = (random.randint(0, self.grid_size-1), random.randint(0, self.grid_size-1))\n",
    "            if hole != self.start and hole != self.goal:\n",
    "                holes.add(hole)\n",
    "        return holes\n",
    "    def reset(self):\n",
    "        self.state = self.start\n",
    "        return self.state\n",
    "\n",
    "    def step(self, action):\n",
    "        if action == Action.UP:\n",
    "            next_state = (max(0, self.state[0]-1), self.state[1])\n",
    "        elif action == Action.DOWN:\n",
    "            next_state = (min(self.grid_size-1, self.state[0]+1), self.state[1])\n",
    "        elif action == Action.RIGHT:\n",
    "            next_state = (self.state[0], min(self.grid_size-1, self.state[1]+1))\n",
    "        elif action == Action.LEFT:\n",
    "            next_state = (self.state[0], max(0, self.state[1]-1))\n",
    "        \n",
    "        if next_state in self.holes:\n",
    "            reward = -1\n",
    "            done = True\n",
    "        elif next_state == self.goal:\n",
    "            reward = 1\n",
    "            done = True\n",
    "        else:\n",
    "            reward = 0\n",
    "            done = False\n",
    "        \n",
    "        self.state = next_state\n",
    "        return next_state, reward, done\n",
    "\n",
    "    def render(self):\n",
    "        for i in range(self.grid_size):\n",
    "            for j in range(self.grid_size):\n",
    "                if (i, j) == self.state:\n",
    "                    print(\"S\", end=\" \")\n",
    "                elif (i, j) == self.goal:\n",
    "                    print(\"G\", end=\" \")\n",
    "                elif (i, j) in self.holes:\n",
    "                    print(\"H\", end=\" \")\n",
    "                else:\n",
    "                    print(\"F\", end=\" \")\n",
    "            print()\n",
    "        print()"
   ]
  },
  {
   "cell_type": "code",
   "execution_count": 6,
   "metadata": {},
   "outputs": [
    {
     "name": "stdout",
     "output_type": "stream",
     "text": [
      "S F F F \n",
      "F H F F \n",
      "F H F F \n",
      "H F F G \n",
      "\n"
     ]
    }
   ],
   "source": [
    "lake = FrozenLake()\n",
    "lake.render()"
   ]
  },
  {
   "cell_type": "code",
   "execution_count": 8,
   "metadata": {},
   "outputs": [],
   "source": [
    "def simple_policy(state):\n",
    "    if state[1] < lake.grid_size - 1:\n",
    "        return Action.RIGHT\n",
    "    else:\n",
    "        return Action.DOWN"
   ]
  },
  {
   "cell_type": "code",
   "execution_count": 9,
   "metadata": {},
   "outputs": [
    {
     "name": "stdout",
     "output_type": "stream",
     "text": [
      "F S F F \n",
      "F H F F \n",
      "F H F F \n",
      "H F F G \n",
      "\n",
      "F F S F \n",
      "F H F F \n",
      "F H F F \n",
      "H F F G \n",
      "\n",
      "F F F S \n",
      "F H F F \n",
      "F H F F \n",
      "H F F G \n",
      "\n",
      "F F F F \n",
      "F H F S \n",
      "F H F F \n",
      "H F F G \n",
      "\n",
      "F F F F \n",
      "F H F F \n",
      "F H F S \n",
      "H F F G \n",
      "\n",
      "F F F F \n",
      "F H F F \n",
      "F H F F \n",
      "H F F S \n",
      "\n"
     ]
    }
   ],
   "source": [
    "state = lake.reset()\n",
    "done = False\n",
    "while not done:\n",
    "    action = simple_policy(state)\n",
    "    state, reward, done = lake.step(action)\n",
    "    lake.render()\n"
   ]
  },
  {
   "cell_type": "code",
   "execution_count": null,
   "metadata": {},
   "outputs": [],
   "source": []
  }
 ],
 "metadata": {
  "kernelspec": {
   "display_name": "Python 3",
   "language": "python",
   "name": "python3"
  },
  "language_info": {
   "codemirror_mode": {
    "name": "ipython",
    "version": 3
   },
   "file_extension": ".py",
   "mimetype": "text/x-python",
   "name": "python",
   "nbconvert_exporter": "python",
   "pygments_lexer": "ipython3",
   "version": "3.11.4"
  }
 },
 "nbformat": 4,
 "nbformat_minor": 2
}
